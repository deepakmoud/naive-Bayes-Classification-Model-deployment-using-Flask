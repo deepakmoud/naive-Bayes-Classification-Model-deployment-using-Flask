{
  "nbformat": 4,
  "nbformat_minor": 0,
  "metadata": {
    "colab": {
      "name": "Naive Bayes FDP",
      "provenance": [],
      "collapsed_sections": []
    },
    "kernelspec": {
      "name": "python3",
      "display_name": "Python 3"
    }
  },
  "cells": [
    {
      "cell_type": "code",
      "metadata": {
        "id": "ZwOO9i_QZr78"
      },
      "source": [
        "# # Data Preprocessing\n",
        "# Importing the libraries\n",
        "import numpy as np\n",
        "import matplotlib.pyplot as plt\n",
        "import pandas as pd"
      ],
      "execution_count": 16,
      "outputs": []
    },
    {
      "cell_type": "code",
      "metadata": {
        "id": "A4Qo-Jl2aG_j",
        "colab": {
          "base_uri": "https://localhost:8080/"
        },
        "outputId": "6b3ff3be-2456-48c5-ea1d-362924fa7c5d"
      },
      "source": [
        "# Mounting Google Drive\n",
        "from google.colab import drive\n",
        "drive.mount('/content/drive')"
      ],
      "execution_count": 17,
      "outputs": [
        {
          "output_type": "stream",
          "text": [
            "Drive already mounted at /content/drive; to attempt to forcibly remount, call drive.mount(\"/content/drive\", force_remount=True).\n"
          ],
          "name": "stdout"
        }
      ]
    },
    {
      "cell_type": "code",
      "metadata": {
        "id": "3HnItOnpPkgs",
        "colab": {
          "resources": {
            "http://localhost:8080/nbextensions/google.colab/files.js": {
              "data": "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",
              "ok": true,
              "headers": [
                [
                  "content-type",
                  "application/javascript"
                ]
              ],
              "status": 200,
              "status_text": ""
            }
          },
          "base_uri": "https://localhost:8080/",
          "height": 73
        },
        "outputId": "a5ba4af2-ba02-4405-d02b-8fd89c7411e7"
      },
      "source": [
        "# importing Dataset from Local drive\n",
        "from google.colab import files\n",
        "Uploaded=files.upload()"
      ],
      "execution_count": null,
      "outputs": [
        {
          "output_type": "display_data",
          "data": {
            "text/html": [
              "\n",
              "     <input type=\"file\" id=\"files-d168e088-e0b0-4d79-8bd8-51858e71ad7a\" name=\"files[]\" multiple disabled\n",
              "        style=\"border:none\" />\n",
              "     <output id=\"result-d168e088-e0b0-4d79-8bd8-51858e71ad7a\">\n",
              "      Upload widget is only available when the cell has been executed in the\n",
              "      current browser session. Please rerun this cell to enable.\n",
              "      </output>\n",
              "      <script src=\"/nbextensions/google.colab/files.js\"></script> "
            ],
            "text/plain": [
              "<IPython.core.display.HTML object>"
            ]
          },
          "metadata": {
            "tags": []
          }
        },
        {
          "output_type": "stream",
          "text": [
            "Saving DATASET education.xlsx to DATASET education.xlsx\n"
          ],
          "name": "stdout"
        }
      ]
    },
    {
      "cell_type": "code",
      "metadata": {
        "id": "lK4mB7ADJKxT"
      },
      "source": [
        "dataset = pd.read_excel('/content/drive/My Drive/DATASET education.xlsx')"
      ],
      "execution_count": 18,
      "outputs": []
    },
    {
      "cell_type": "code",
      "metadata": {
        "id": "-zxDL2iCi96H",
        "colab": {
          "base_uri": "https://localhost:8080/"
        },
        "outputId": "64074b68-a463-4862-ab8e-6d6ade4651d8"
      },
      "source": [
        "#Print Total number of Rows & columns in dataset\n",
        "print(dataset.shape)"
      ],
      "execution_count": 19,
      "outputs": [
        {
          "output_type": "stream",
          "text": [
            "(119, 10)\n"
          ],
          "name": "stdout"
        }
      ]
    },
    {
      "cell_type": "code",
      "metadata": {
        "id": "tu9X2F2mjFwo",
        "colab": {
          "base_uri": "https://localhost:8080/"
        },
        "outputId": "faf4c844-4598-4185-c88a-497641fdb87d"
      },
      "source": [
        "#Print Imformation about data\n",
        "dataset.info()"
      ],
      "execution_count": 20,
      "outputs": [
        {
          "output_type": "stream",
          "text": [
            "<class 'pandas.core.frame.DataFrame'>\n",
            "RangeIndex: 119 entries, 0 to 118\n",
            "Data columns (total 10 columns):\n",
            " #   Column             Non-Null Count  Dtype  \n",
            "---  ------             --------------  -----  \n",
            " 0   10th               119 non-null    float64\n",
            " 1   12th               119 non-null    float64\n",
            " 2   B.Tech             119 non-null    float64\n",
            " 3   7-SEM              119 non-null    float64\n",
            " 4   6-SEM              119 non-null    float64\n",
            " 5   5-SEM              119 non-null    float64\n",
            " 6   Final Performance  119 non-null    float64\n",
            " 7   Medium             119 non-null    int64  \n",
            " 8   Package            119 non-null    object \n",
            " 9   Placed             119 non-null    int64  \n",
            "dtypes: float64(7), int64(2), object(1)\n",
            "memory usage: 9.4+ KB\n"
          ],
          "name": "stdout"
        }
      ]
    },
    {
      "cell_type": "code",
      "metadata": {
        "colab": {
          "base_uri": "https://localhost:8080/"
        },
        "id": "bMpFt5mya6g0",
        "outputId": "620b9587-e6ed-45fd-ec35-d934a53e0f4b"
      },
      "source": [
        "print(dataset)"
      ],
      "execution_count": 21,
      "outputs": [
        {
          "output_type": "stream",
          "text": [
            "      10th  12th  B.Tech  7-SEM  ...  Final Performance  Medium   Package  Placed\n",
            "0    74.83  75.2   72.80  67.04  ...              56.77       2    5.0LPA       1\n",
            "1    89.30  80.8   69.60  73.49  ...              61.38       1      0LPA       0\n",
            "2    79.83  75.4   58.70  62.82  ...              51.81       2      0LPA       0\n",
            "3    68.40  59.6   54.40  65.17  ...              54.84       1   10.0LPA       1\n",
            "4    79.80  69.8   74.45  76.24  ...              67.80       1  3.36 LPA       1\n",
            "..     ...   ...     ...    ...  ...                ...     ...       ...     ...\n",
            "114  76.00  82.6   68.25  56.96  ...              46.25       1   3.8 LPA       1\n",
            "115  83.60  75.8   70.10  64.83  ...              53.92       1   3.6 LPA       1\n",
            "116  89.30  68.4   77.55  67.57  ...              58.27       1   3.8 LPA       1\n",
            "117  89.30  72.0   74.90  65.10  ...              56.63       1      0LPA       0\n",
            "118  53.20  71.6   71.00  40.08  ...              34.48       1  2.40 LPA       1\n",
            "\n",
            "[119 rows x 10 columns]\n"
          ],
          "name": "stdout"
        }
      ]
    },
    {
      "cell_type": "code",
      "metadata": {
        "id": "tsRc4pHha9aC"
      },
      "source": [
        "# Extracting dependent and independent variables:\n",
        "# Extracting independent variable:\n",
        "X = dataset.iloc[:, 0:8].values\n",
        "# Extracting dependent variable:\n",
        "y = dataset.iloc[:, 9].values\n"
      ],
      "execution_count": 22,
      "outputs": []
    },
    {
      "cell_type": "code",
      "metadata": {
        "id": "VWqeqy-1bL4U",
        "colab": {
          "base_uri": "https://localhost:8080/"
        },
        "outputId": "50f0d1db-dfb2-4ceb-9f86-4a5e59ef8c75"
      },
      "source": [
        "print(X)"
      ],
      "execution_count": 23,
      "outputs": [
        {
          "output_type": "stream",
          "text": [
            "[[74.83 75.2  72.8  67.04 34.53 18.4  56.77  2.  ]\n",
            " [89.3  80.8  69.6  73.49 31.81 21.5  61.38  1.  ]\n",
            " [79.83 75.4  58.7  62.82 31.44  5.38 51.81  2.  ]\n",
            " [68.4  59.6  54.4  65.17 35.92 10.92 54.84  1.  ]\n",
            " [79.8  69.8  74.45 76.24 44.5  44.2  67.8   1.  ]\n",
            " [76.   74.   51.6  70.59 36.52 79.85 66.05  1.  ]\n",
            " [77.33 65.6  66.3  73.34 49.02 23.09 64.22  1.  ]\n",
            " [63.5  59.6  59.9  50.74 36.22  4.94 43.66  1.  ]\n",
            " [89.17 83.8  70.1  55.18 42.92 10.5  48.58  2.  ]\n",
            " [87.4  83.8  79.55 69.53 51.96 24.25 62.01  1.  ]\n",
            " [81.7  61.4  68.15 61.32 44.05 37.44 56.06  1.  ]\n",
            " [96.83 87.2  72.85 59.69 40.36 28.87 53.39  1.  ]\n",
            " [66.5  57.8  54.05  0.94 20.18 13.52  5.35  1.  ]\n",
            " [62.7  65.   27.8   0.96  3.24  0.    1.23  1.  ]\n",
            " [85.5  67.   66.95 55.6  37.24  3.15 47.21  1.  ]\n",
            " [93.1  86.   81.55 63.95 52.26 20.09 57.53  1.  ]\n",
            " [58.   60.6  55.95 41.36 31.21  2.95 35.75  2.  ]\n",
            " [66.5  75.2  74.55 73.76 46.46 37.97 65.65  1.  ]\n",
            " [68.4  59.6  63.45 70.87 34.26  9.87 58.66  1.  ]\n",
            " [87.4  85.4  66.35 60.51 41.49 22.44 53.5   1.  ]\n",
            " [81.7  56.8  59.9  59.94 41.6  22.47 53.11  1.  ]\n",
            " [72.2  68.4  72.9  76.89 46.65 62.72 70.54  1.  ]\n",
            " [70.   64.4  55.3  59.42 32.04 28.04 51.76  2.  ]\n",
            " [74.1  66.6  57.35 42.18 11.14 13.9  34.24  1.  ]\n",
            " [87.4  60.8  51.55 53.28 27.64 13.91 45.07  1.  ]\n",
            " [80.5  76.8  53.5  66.83 35.84 35.03 58.54  2.  ]\n",
            " [92.   82.6  68.3  64.71 36.52 18.18 55.35  2.  ]\n",
            " [70.3  72.6  45.85 57.93 30.53  1.76 47.7   1.  ]\n",
            " [74.1  65.6  64.55 58.82 29.48  4.76 48.49  1.  ]\n",
            " [83.6  71.6  71.8  65.72 44.5  67.23 62.45  1.  ]\n",
            " [91.17 85.4  85.95 85.76 50.   41.48 75.41  1.  ]\n",
            " [66.33 75.4  70.6  65.37 51.58 20.53 58.51  2.  ]\n",
            " [87.4  53.2  55.7  55.19 28.24 27.36 47.96  1.  ]\n",
            " [58.9  59.4  66.65 62.53 49.44  6.76 54.65  1.  ]\n",
            " [72.2  71.   69.4  49.76 43.26 64.23 50.21  1.  ]\n",
            " [95.   89.   77.05 65.71 37.84 41.38 58.7   1.  ]\n",
            " [82.33 66.8  69.2  78.14 57.76 67.54 73.76  2.  ]\n",
            " [81.   84.8  68.95 62.63 41.45 40.76 56.95  2.  ]\n",
            " [77.9  72.2  65.45 72.59 42.85 29.42 63.33  1.  ]\n",
            " [87.4  79.6  69.9  65.89 39.65 37.28 58.7   1.  ]\n",
            " [60.8  54.6  69.15 46.43 40.59 29.58 43.74  1.  ]\n",
            " [81.7  65.8  68.   72.55 36.33 16.24 60.88  1.  ]\n",
            " [72.2  53.2  55.   60.89 35.58 16.36 52.2   1.  ]\n",
            " [72.2  63.2  48.2  54.38 32.15  6.99 45.9   1.  ]\n",
            " [78.83 63.2  36.15 66.63 20.29  6.05 52.89  2.  ]\n",
            " [74.1  70.2  59.15 60.4  28.24 28.15 51.88  1.  ]\n",
            " [76.   74.6  63.05 81.49 27.86 52.32 69.82  1.  ]\n",
            " [91.2  70.   75.6  79.06 59.41 80.4  76.03  1.  ]\n",
            " [72.2  60.8  60.85 68.27 32.83 15.31 57.07  1.  ]\n",
            " [82.33 83.2  77.05 61.69 45.22 47.15 57.52  2.  ]\n",
            " [93.1  83.8  77.4  55.75 37.31 31.76 50.29  1.  ]\n",
            " [84.17 92.2  70.65 70.59 39.23 23.5  60.66  2.  ]\n",
            " [64.6  49.   63.6  59.63 24.06 33.19 51.15  1.  ]\n",
            " [81.7  61.6  67.4  52.11 42.51 33.3  48.61  1.  ]\n",
            " [72.2  72.4  70.55 50.88 34.04 32.38 46.25  1.  ]\n",
            " [85.17 80.   64.9  61.26 37.88 27.81 54.02  2.  ]\n",
            " [80.5  89.2  80.65 63.26 39.16 42.79 57.25  2.  ]\n",
            " [70.3  58.8  55.7  63.24 36.07  9.03 53.25  1.  ]\n",
            " [73.83 80.4  65.85 57.33  9.98 27.09 46.56  2.  ]\n",
            " [73.17 68.8  71.6  62.29 34.38  6.01 51.96  1.  ]\n",
            " [95.   68.6  70.5  66.25 19.54 12.59 53.16  1.  ]\n",
            " [53.2  53.6  59.75 45.33 41.45 43.15 44.48  1.  ]\n",
            " [74.1  60.6  68.25 56.02 28.84 16.   47.49  1.  ]\n",
            " [67.17 86.6  64.6  46.34 40.66 39.6  44.73  2.  ]\n",
            " [85.5  82.2  79.7  72.86 45.93 30.03 64.08  1.  ]\n",
            " [68.4  66.8  73.65 65.26 42.92 41.29 59.17  1.  ]\n",
            " [92.67 86.   73.15 71.63 46.01 25.76 62.75  1.  ]\n",
            " [89.3  80.6  74.6  38.84 34.26 19.39 36.09  1.  ]\n",
            " [81.7  74.8  73.45 38.93 44.65 24.8  38.39  1.  ]\n",
            " [76.   67.   73.55 52.03 40.85 45.37 49.54  1.  ]\n",
            " [70.   61.8  66.75 63.8  40.29 40.73 57.62  1.  ]\n",
            " [77.9  58.4  61.45 72.48 45.71 21.76 62.91  1.  ]\n",
            " [81.83 70.6  54.55 50.46 30.05  3.32 42.29  2.  ]\n",
            " [83.5  86.4  79.   59.27 53.16 18.56 54.08  1.  ]\n",
            " [62.7  62.8  67.2  55.67 41.23  4.68 48.07  1.  ]\n",
            " [95.   78.6  71.85 64.61 34.98 28.32 56.08  1.  ]\n",
            " [79.8  68.   70.95 60.38 39.61 35.28 54.43  1.  ]\n",
            " [81.7  79.2  69.95 80.75 34.15 59.85 71.06  1.  ]\n",
            " [73.83 80.2  59.7  57.35 41.53 10.64 49.97  2.  ]\n",
            " [74.1  64.8  59.35 65.   39.12 16.7  55.83  1.  ]\n",
            " [95.   67.   68.1  65.56 48.16 49.5  61.09  1.  ]\n",
            " [81.7  59.2  68.   67.86 40.7  17.64 58.29  1.  ]\n",
            " [83.5  65.2  63.35 53.04 32.68 23.64 46.71  2.  ]\n",
            " [70.3  58.4  68.35 49.24 38.52  7.11 43.15  1.  ]\n",
            " [70.3  64.2  71.3  70.09 39.91 31.   61.17  1.  ]\n",
            " [79.8  75.8  79.6  65.6  50.83 31.68 59.71  1.  ]\n",
            " [77.9  76.2  71.65  2.13 35.2  52.71 12.7   1.  ]\n",
            " [91.2  74.   73.8  42.85 43.75 11.74 39.78  1.  ]\n",
            " [95.   82.4  77.6  63.83 44.39 15.82 55.73  1.  ]\n",
            " [85.5  86.8  75.85 61.17 45.37 16.8  54.03  1.  ]\n",
            " [74.   75.8  63.05 56.93 32.87 16.07 48.82  2.  ]\n",
            " [86.83 78.4  72.05 66.16 43.41 31.86 58.94  2.  ]\n",
            " [72.2  65.2  45.25 65.85 34.75 11.74 55.23  1.  ]\n",
            " [85.5  78.6  74.1  68.11 11.37 32.78 55.3   1.  ]\n",
            " [66.5  70.   57.2  57.   45.9  10.24 50.37  1.  ]\n",
            " [95.   84.   72.6  81.42 55.65 11.93 70.07  1.  ]\n",
            " [74.1  63.4  61.2  60.01 39.53 16.2  52.17  1.  ]\n",
            " [83.83 80.   69.   73.46 36.48 28.4  62.83  2.  ]\n",
            " [89.33 82.4  80.9  71.68 44.65  6.56 60.58  1.  ]\n",
            " [86.33 89.8  70.85 62.65 34.   31.91 54.85  2.  ]\n",
            " [93.1  73.6  74.6  66.09 35.43 40.04 58.44  1.  ]\n",
            " [77.9  72.4  66.3  75.69 43.83  7.67 63.51  1.  ]\n",
            " [68.4  54.4  26.85 63.89 17.47 29.97 52.88  1.  ]\n",
            " [83.   85.8  73.65 78.91 37.84 48.56 69.14  1.  ]\n",
            " [84.   77.8  67.7  57.82 32.38  3.66 48.12  2.  ]\n",
            " [64.6  65.   55.75 56.36 31.7  10.61 47.65  1.  ]\n",
            " [76.67 78.8  70.4  49.35 40.63 38.25 46.79  2.  ]\n",
            " [83.6  88.2  74.55 61.95 30.69 34.01 54.01  1.  ]\n",
            " [87.4  66.   57.4  79.9  40.74 56.07 71.12  1.  ]\n",
            " [74.1  67.2  63.05 64.8  18.86 16.12 52.35  1.  ]\n",
            " [76.   84.2  68.45 59.87 41.15 24.15 53.16  1.  ]\n",
            " [76.67 69.2  65.   60.97 27.75 34.88 52.91  2.  ]\n",
            " [82.5  79.6  71.4  77.89 37.99 46.12 68.16  1.  ]\n",
            " [85.5  70.2  74.2  79.79 20.33  8.81 62.85  1.  ]\n",
            " [76.   82.6  68.25 56.96 22.25  7.5  46.25  1.  ]\n",
            " [83.6  75.8  70.1  64.83 34.22  7.08 53.92  1.  ]\n",
            " [89.3  68.4  77.55 67.57 36.82 25.64 58.27  1.  ]\n",
            " [89.3  72.   74.9  65.1  31.44 35.75 56.63  1.  ]\n",
            " [53.2  71.6  71.   40.08 30.53  0.88 34.48  1.  ]]\n"
          ],
          "name": "stdout"
        }
      ]
    },
    {
      "cell_type": "code",
      "metadata": {
        "id": "OWbhrBypeyV1",
        "colab": {
          "base_uri": "https://localhost:8080/"
        },
        "outputId": "d2aaa5df-53dd-44e6-c43d-7b9f168f3960"
      },
      "source": [
        "print(y)"
      ],
      "execution_count": 24,
      "outputs": [
        {
          "output_type": "stream",
          "text": [
            "[1 0 0 1 1 1 1 0 1 1 1 1 1 0 1 1 0 1 0 0 0 1 0 1 0 1 1 1 0 1 1 0 0 0 1 1 1\n",
            " 1 0 1 0 1 0 0 0 0 1 1 0 1 1 1 0 1 0 1 1 0 0 1 1 1 1 1 1 1 1 1 1 1 0 1 0 1\n",
            " 1 1 1 1 0 1 1 1 0 1 1 1 1 1 1 1 0 1 0 0 0 1 1 1 1 1 1 1 0 1 1 1 1 1 1 0 1\n",
            " 1 1 1 1 1 1 0 1]\n"
          ],
          "name": "stdout"
        }
      ]
    },
    {
      "cell_type": "code",
      "metadata": {
        "id": "UzrhbKTfbgVL"
      },
      "source": [
        "# Splitting the dataset into the Training set and Test set\n",
        "from sklearn.model_selection import train_test_split\n",
        "\n",
        "X_train, X_test, y_train, y_test = train_test_split(X, y, test_size = 0.25, random_state = 0)"
      ],
      "execution_count": 25,
      "outputs": []
    },
    {
      "cell_type": "code",
      "metadata": {
        "id": "7P72zs0Xbnqr",
        "colab": {
          "base_uri": "https://localhost:8080/"
        },
        "outputId": "505c2102-170e-47d3-d656-0ef545ba74b4"
      },
      "source": [
        "print(X_train)"
      ],
      "execution_count": 26,
      "outputs": [
        {
          "output_type": "stream",
          "text": [
            "[[84.17 92.2  70.65 70.59 39.23 23.5  60.66  2.  ]\n",
            " [85.5  70.2  74.2  79.79 20.33  8.81 62.85  1.  ]\n",
            " [83.6  88.2  74.55 61.95 30.69 34.01 54.01  1.  ]\n",
            " [53.2  53.6  59.75 45.33 41.45 43.15 44.48  1.  ]\n",
            " [68.4  59.6  54.4  65.17 35.92 10.92 54.84  1.  ]\n",
            " [74.1  63.4  61.2  60.01 39.53 16.2  52.17  1.  ]\n",
            " [77.33 65.6  66.3  73.34 49.02 23.09 64.22  1.  ]\n",
            " [95.   78.6  71.85 64.61 34.98 28.32 56.08  1.  ]\n",
            " [93.1  73.6  74.6  66.09 35.43 40.04 58.44  1.  ]\n",
            " [86.83 78.4  72.05 66.16 43.41 31.86 58.94  2.  ]\n",
            " [84.   77.8  67.7  57.82 32.38  3.66 48.12  2.  ]\n",
            " [70.3  64.2  71.3  70.09 39.91 31.   61.17  1.  ]\n",
            " [74.   75.8  63.05 56.93 32.87 16.07 48.82  2.  ]\n",
            " [92.67 86.   73.15 71.63 46.01 25.76 62.75  1.  ]\n",
            " [70.3  72.6  45.85 57.93 30.53  1.76 47.7   1.  ]\n",
            " [68.4  59.6  63.45 70.87 34.26  9.87 58.66  1.  ]\n",
            " [86.33 89.8  70.85 62.65 34.   31.91 54.85  2.  ]\n",
            " [96.83 87.2  72.85 59.69 40.36 28.87 53.39  1.  ]\n",
            " [74.1  60.6  68.25 56.02 28.84 16.   47.49  1.  ]\n",
            " [77.9  58.4  61.45 72.48 45.71 21.76 62.91  1.  ]\n",
            " [80.5  89.2  80.65 63.26 39.16 42.79 57.25  2.  ]\n",
            " [89.33 82.4  80.9  71.68 44.65  6.56 60.58  1.  ]\n",
            " [77.9  76.2  71.65  2.13 35.2  52.71 12.7   1.  ]\n",
            " [89.3  80.8  69.6  73.49 31.81 21.5  61.38  1.  ]\n",
            " [83.5  86.4  79.   59.27 53.16 18.56 54.08  1.  ]\n",
            " [72.2  53.2  55.   60.89 35.58 16.36 52.2   1.  ]\n",
            " [81.7  65.8  68.   72.55 36.33 16.24 60.88  1.  ]\n",
            " [79.8  69.8  74.45 76.24 44.5  44.2  67.8   1.  ]\n",
            " [93.1  86.   81.55 63.95 52.26 20.09 57.53  1.  ]\n",
            " [66.5  75.2  74.55 73.76 46.46 37.97 65.65  1.  ]\n",
            " [64.6  49.   63.6  59.63 24.06 33.19 51.15  1.  ]\n",
            " [60.8  54.6  69.15 46.43 40.59 29.58 43.74  1.  ]\n",
            " [77.9  72.2  65.45 72.59 42.85 29.42 63.33  1.  ]\n",
            " [76.   74.   51.6  70.59 36.52 79.85 66.05  1.  ]\n",
            " [81.7  61.6  67.4  52.11 42.51 33.3  48.61  1.  ]\n",
            " [74.1  67.2  63.05 64.8  18.86 16.12 52.35  1.  ]\n",
            " [76.   82.6  68.25 56.96 22.25  7.5  46.25  1.  ]\n",
            " [74.83 75.2  72.8  67.04 34.53 18.4  56.77  2.  ]\n",
            " [72.2  71.   69.4  49.76 43.26 64.23 50.21  1.  ]\n",
            " [74.1  65.6  64.55 58.82 29.48  4.76 48.49  1.  ]\n",
            " [85.17 80.   64.9  61.26 37.88 27.81 54.02  2.  ]\n",
            " [95.   89.   77.05 65.71 37.84 41.38 58.7   1.  ]\n",
            " [74.1  66.6  57.35 42.18 11.14 13.9  34.24  1.  ]\n",
            " [66.33 75.4  70.6  65.37 51.58 20.53 58.51  2.  ]\n",
            " [73.83 80.2  59.7  57.35 41.53 10.64 49.97  2.  ]\n",
            " [70.3  58.8  55.7  63.24 36.07  9.03 53.25  1.  ]\n",
            " [72.2  65.2  45.25 65.85 34.75 11.74 55.23  1.  ]\n",
            " [68.4  54.4  26.85 63.89 17.47 29.97 52.88  1.  ]\n",
            " [87.4  53.2  55.7  55.19 28.24 27.36 47.96  1.  ]\n",
            " [77.9  72.4  66.3  75.69 43.83  7.67 63.51  1.  ]\n",
            " [85.5  67.   66.95 55.6  37.24  3.15 47.21  1.  ]\n",
            " [79.8  75.8  79.6  65.6  50.83 31.68 59.71  1.  ]\n",
            " [87.4  85.4  66.35 60.51 41.49 22.44 53.5   1.  ]\n",
            " [83.6  71.6  71.8  65.72 44.5  67.23 62.45  1.  ]\n",
            " [82.33 83.2  77.05 61.69 45.22 47.15 57.52  2.  ]\n",
            " [83.5  65.2  63.35 53.04 32.68 23.64 46.71  2.  ]\n",
            " [89.3  68.4  77.55 67.57 36.82 25.64 58.27  1.  ]\n",
            " [89.3  72.   74.9  65.1  31.44 35.75 56.63  1.  ]\n",
            " [74.1  64.8  59.35 65.   39.12 16.7  55.83  1.  ]\n",
            " [76.   67.   73.55 52.03 40.85 45.37 49.54  1.  ]\n",
            " [95.   67.   68.1  65.56 48.16 49.5  61.09  1.  ]\n",
            " [81.7  56.8  59.9  59.94 41.6  22.47 53.11  1.  ]\n",
            " [82.5  79.6  71.4  77.89 37.99 46.12 68.16  1.  ]\n",
            " [81.83 70.6  54.55 50.46 30.05  3.32 42.29  2.  ]\n",
            " [81.7  79.2  69.95 80.75 34.15 59.85 71.06  1.  ]\n",
            " [80.5  76.8  53.5  66.83 35.84 35.03 58.54  2.  ]\n",
            " [81.   84.8  68.95 62.63 41.45 40.76 56.95  2.  ]\n",
            " [81.7  59.2  68.   67.86 40.7  17.64 58.29  1.  ]\n",
            " [64.6  65.   55.75 56.36 31.7  10.61 47.65  1.  ]\n",
            " [76.   74.6  63.05 81.49 27.86 52.32 69.82  1.  ]\n",
            " [87.4  66.   57.4  79.9  40.74 56.07 71.12  1.  ]\n",
            " [87.4  79.6  69.9  65.89 39.65 37.28 58.7   1.  ]\n",
            " [68.4  66.8  73.65 65.26 42.92 41.29 59.17  1.  ]\n",
            " [73.83 80.4  65.85 57.33  9.98 27.09 46.56  2.  ]\n",
            " [66.5  57.8  54.05  0.94 20.18 13.52  5.35  1.  ]\n",
            " [76.67 78.8  70.4  49.35 40.63 38.25 46.79  2.  ]\n",
            " [95.   82.4  77.6  63.83 44.39 15.82 55.73  1.  ]\n",
            " [70.   61.8  66.75 63.8  40.29 40.73 57.62  1.  ]\n",
            " [91.2  74.   73.8  42.85 43.75 11.74 39.78  1.  ]\n",
            " [82.33 66.8  69.2  78.14 57.76 67.54 73.76  2.  ]\n",
            " [72.2  68.4  72.9  76.89 46.65 62.72 70.54  1.  ]\n",
            " [70.3  58.4  68.35 49.24 38.52  7.11 43.15  1.  ]\n",
            " [87.4  83.8  79.55 69.53 51.96 24.25 62.01  1.  ]\n",
            " [83.   85.8  73.65 78.91 37.84 48.56 69.14  1.  ]\n",
            " [83.6  75.8  70.1  64.83 34.22  7.08 53.92  1.  ]\n",
            " [89.3  80.6  74.6  38.84 34.26 19.39 36.09  1.  ]\n",
            " [85.5  82.2  79.7  72.86 45.93 30.03 64.08  1.  ]\n",
            " [91.2  70.   75.6  79.06 59.41 80.4  76.03  1.  ]\n",
            " [78.83 63.2  36.15 66.63 20.29  6.05 52.89  2.  ]]\n"
          ],
          "name": "stdout"
        }
      ]
    },
    {
      "cell_type": "code",
      "metadata": {
        "id": "MYY7nwKAbwIn",
        "colab": {
          "base_uri": "https://localhost:8080/"
        },
        "outputId": "38b0be1a-b65a-4b83-c046-1e69005791e2"
      },
      "source": [
        "print(X_test)"
      ],
      "execution_count": 27,
      "outputs": [
        {
          "output_type": "stream",
          "text": [
            "[[72.2  60.8  60.85 68.27 32.83 15.31 57.07  1.  ]\n",
            " [66.5  70.   57.2  57.   45.9  10.24 50.37  1.  ]\n",
            " [95.   84.   72.6  81.42 55.65 11.93 70.07  1.  ]\n",
            " [89.17 83.8  70.1  55.18 42.92 10.5  48.58  2.  ]\n",
            " [83.83 80.   69.   73.46 36.48 28.4  62.83  2.  ]\n",
            " [70.   64.4  55.3  59.42 32.04 28.04 51.76  2.  ]\n",
            " [63.5  59.6  59.9  50.74 36.22  4.94 43.66  1.  ]\n",
            " [81.7  61.4  68.15 61.32 44.05 37.44 56.06  1.  ]\n",
            " [74.1  70.2  59.15 60.4  28.24 28.15 51.88  1.  ]\n",
            " [85.5  86.8  75.85 61.17 45.37 16.8  54.03  1.  ]\n",
            " [58.9  59.4  66.65 62.53 49.44  6.76 54.65  1.  ]\n",
            " [93.1  83.8  77.4  55.75 37.31 31.76 50.29  1.  ]\n",
            " [79.83 75.4  58.7  62.82 31.44  5.38 51.81  2.  ]\n",
            " [95.   68.6  70.5  66.25 19.54 12.59 53.16  1.  ]\n",
            " [53.2  71.6  71.   40.08 30.53  0.88 34.48  1.  ]\n",
            " [62.7  62.8  67.2  55.67 41.23  4.68 48.07  1.  ]\n",
            " [91.17 85.4  85.95 85.76 50.   41.48 75.41  1.  ]\n",
            " [72.2  63.2  48.2  54.38 32.15  6.99 45.9   1.  ]\n",
            " [76.67 69.2  65.   60.97 27.75 34.88 52.91  2.  ]\n",
            " [79.8  68.   70.95 60.38 39.61 35.28 54.43  1.  ]\n",
            " [67.17 86.6  64.6  46.34 40.66 39.6  44.73  2.  ]\n",
            " [73.17 68.8  71.6  62.29 34.38  6.01 51.96  1.  ]\n",
            " [58.   60.6  55.95 41.36 31.21  2.95 35.75  2.  ]\n",
            " [87.4  60.8  51.55 53.28 27.64 13.91 45.07  1.  ]\n",
            " [76.   84.2  68.45 59.87 41.15 24.15 53.16  1.  ]\n",
            " [62.7  65.   27.8   0.96  3.24  0.    1.23  1.  ]\n",
            " [72.2  72.4  70.55 50.88 34.04 32.38 46.25  1.  ]\n",
            " [85.5  78.6  74.1  68.11 11.37 32.78 55.3   1.  ]\n",
            " [92.   82.6  68.3  64.71 36.52 18.18 55.35  2.  ]\n",
            " [81.7  74.8  73.45 38.93 44.65 24.8  38.39  1.  ]]\n"
          ],
          "name": "stdout"
        }
      ]
    },
    {
      "cell_type": "code",
      "metadata": {
        "id": "4SE8ozd4b1Fg",
        "colab": {
          "base_uri": "https://localhost:8080/"
        },
        "outputId": "daaee80b-0f6d-4b92-d90f-ed29057c24ec"
      },
      "source": [
        "print(y_test)"
      ],
      "execution_count": 28,
      "outputs": [
        {
          "output_type": "stream",
          "text": [
            "[0 0 1 1 1 0 0 1 0 1 0 1 0 1 1 1 1 0 1 1 1 1 0 0 1 0 0 0 1 1]\n"
          ],
          "name": "stdout"
        }
      ]
    },
    {
      "cell_type": "code",
      "metadata": {
        "id": "zSCby589b4kz",
        "colab": {
          "base_uri": "https://localhost:8080/"
        },
        "outputId": "de1a650c-7016-4b75-fec4-924e1e3d7281"
      },
      "source": [
        "print(y_train)"
      ],
      "execution_count": 29,
      "outputs": [
        {
          "output_type": "stream",
          "text": [
            "[1 1 1 1 1 1 1 1 1 1 1 1 0 1 1 0 1 1 1 1 1 1 1 0 1 0 1 1 1 1 0 0 0 1 1 0 1\n",
            " 1 1 0 1 1 1 0 0 0 0 0 0 1 1 1 0 1 1 0 1 0 1 1 1 0 1 0 1 1 1 1 1 1 1 1 1 0\n",
            " 1 1 1 0 1 1 1 1 1 1 1 1 1 1 0]\n"
          ],
          "name": "stdout"
        }
      ]
    },
    {
      "cell_type": "code",
      "metadata": {
        "id": "Yhovt-qlcsyQ"
      },
      "source": [
        "# Feature Scaling\n",
        "from sklearn.preprocessing import StandardScaler\n",
        "sc = StandardScaler()\n",
        "X_train = sc.fit_transform(X_train)\n",
        "X_test = sc.transform(X_test)"
      ],
      "execution_count": 30,
      "outputs": []
    },
    {
      "cell_type": "code",
      "metadata": {
        "id": "ic851ceFc-bY",
        "colab": {
          "base_uri": "https://localhost:8080/"
        },
        "outputId": "d105e4b5-3061-4e03-85d7-46535c50dd9f"
      },
      "source": [
        "print(X_train)"
      ],
      "execution_count": 31,
      "outputs": [
        {
          "output_type": "stream",
          "text": [
            "[[ 5.15384898e-01  1.98834927e+00  3.84640577e-01  6.17415734e-01\n",
            "   1.75677284e-01 -2.76414019e-01  5.28392939e-01  1.91942974e+00]\n",
            " [ 6.67535014e-01 -1.73812159e-01  7.55602697e-01  1.32350678e+00\n",
            "  -1.88791741e+00 -1.09828855e+00  7.32671476e-01 -5.20988072e-01]\n",
            " [ 4.50177706e-01  1.59522901e+00  7.92176427e-01 -4.56958528e-02\n",
            "  -7.56761799e-01  3.11598328e-01 -9.19049048e-02 -5.20988072e-01]\n",
            " [-3.02753923e+00 -1.80526123e+00 -7.54369875e-01 -1.32126467e+00\n",
            "   4.18067772e-01  8.22962062e-01 -9.80843017e-01 -5.20988072e-01]\n",
            " [-1.28868076e+00 -1.21558085e+00 -1.31342546e+00  2.01436012e-01\n",
            "  -1.85724749e-01 -9.80238502e-01 -1.44842717e-02 -5.20988072e-01]\n",
            " [-6.36608835e-01 -8.42116600e-01 -6.02850136e-01 -1.94588964e-01\n",
            "   2.08432756e-01 -6.84833631e-01 -2.63536188e-01 -5.20988072e-01]\n",
            " [-2.67101411e-01 -6.25900457e-01 -6.99186398e-02  8.28475556e-01\n",
            "   1.24459750e+00 -2.99352654e-01  8.60462160e-01 -5.20988072e-01]\n",
            " [ 1.75432156e+00  6.51740385e-01  5.10036224e-01  1.58456557e-01\n",
            "  -2.88358559e-01 -6.74517846e-03  1.01180289e-01 -5.20988072e-01]\n",
            " [ 1.53696425e+00  1.60340061e-01  7.97401246e-01  2.72045116e-01\n",
            "  -2.39225352e-01  6.48964117e-01  3.21316065e-01 -5.20988072e-01]\n",
            " [ 8.19685130e-01  6.32084372e-01  5.30935498e-01  2.77417548e-01\n",
            "   6.32070184e-01  1.91310360e-01  3.67955000e-01  1.91942974e+00]\n",
            " [ 4.95937139e-01  5.73116333e-01  7.63762807e-02 -3.62669331e-01\n",
            "  -5.72239310e-01 -1.38642020e+00 -6.41311566e-01  1.91942974e+00]\n",
            " [-1.07132345e+00 -7.63492548e-01  4.52563219e-01  5.79041221e-01\n",
            "   2.49923019e-01  1.43195172e-01  5.75964653e-01 -5.20988072e-01]\n",
            " [-6.48048694e-01  3.76556203e-01 -4.09531848e-01 -4.30975965e-01\n",
            "  -5.18738707e-01 -6.92106857e-01 -5.76017056e-01  1.91942974e+00]\n",
            " [ 1.48777286e+00  1.37901286e+00  6.45881507e-01  6.97234721e-01\n",
            "   9.15950936e-01 -1.49971782e-01  7.23343689e-01 -5.20988072e-01]\n",
            " [-1.07132345e+00  6.20599960e-02 -2.20686944e+00 -3.54226938e-01\n",
            "  -7.74231384e-01 -1.49272119e+00 -6.80488272e-01 -5.20988072e-01]\n",
            " [-1.28868076e+00 -1.21558085e+00 -3.67733299e-01  6.38905461e-01\n",
            "  -3.66971690e-01 -1.03898379e+00  3.41837196e-01 -5.20988072e-01]\n",
            " [ 7.62485838e-01  1.75247711e+00  4.05539852e-01  8.02846556e-03\n",
            "  -3.95359765e-01  1.94107754e-01 -1.35514930e-02  1.91942974e+00]\n",
            " [ 1.96367096e+00  1.49694894e+00  6.14532595e-01 -2.19148652e-01\n",
            "   2.99056226e-01  2.40261622e-02 -1.49737185e-01 -5.20988072e-01]\n",
            " [-6.36608835e-01 -1.11730078e+00  1.33849285e-01 -5.00817578e-01\n",
            "  -9.58753872e-01 -6.96023210e-01 -7.00076625e-01 -5.20988072e-01]\n",
            " [-2.01894219e-01 -1.33351692e+00 -5.76726043e-01  7.62471394e-01\n",
            "   8.83195464e-01 -3.73763351e-01  7.38268149e-01 -5.20988072e-01]\n",
            " [ 9.55420977e-02  1.69350907e+00  1.42960430e+00  5.48453716e-02\n",
            "   1.68034341e-01  8.02820821e-01  2.10315398e-01  1.91942974e+00]\n",
            " [ 1.10568159e+00  1.02520463e+00  1.45572839e+00  7.01072173e-01\n",
            "   7.67459466e-01 -1.22417131e+00  5.20930709e-01 -5.20988072e-01]\n",
            " [-2.01894219e-01  4.15868229e-01  4.89136949e-01 -4.63682260e+00\n",
            "  -2.64337880e-01  1.35782391e+00 -3.94521376e+00 -5.20988072e-01]\n",
            " [ 1.10224963e+00  8.67956527e-01  2.74919387e-01  8.39987910e-01\n",
            "  -6.34474706e-01 -3.88309803e-01  5.95553006e-01 -5.20988072e-01]\n",
            " [ 4.38737848e-01  1.41832489e+00  1.25718528e+00 -2.51383243e-01\n",
            "   1.69662300e+00 -5.52796606e-01 -8.53754538e-02 -5.20988072e-01]\n",
            " [-8.53966144e-01 -1.84457326e+00 -1.25072764e+00 -1.27049821e-01\n",
            "  -2.22847617e-01 -6.75881969e-01 -2.60737852e-01 -5.20988072e-01]\n",
            " [ 2.32820398e-01 -6.06244444e-01  1.07725192e-01  7.67843825e-01\n",
            "  -1.40958938e-01 -6.82595716e-01  5.48914070e-01 -5.20988072e-01]\n",
            " [ 1.54630894e-02 -2.13124185e-01  7.81726790e-01  1.05104773e+00\n",
            "   7.51081730e-01  8.81707349e-01  1.19439694e+00 -5.20988072e-01]\n",
            " [ 1.53696425e+00  1.37901286e+00  1.52365103e+00  1.07802200e-01\n",
            "   1.59835659e+00 -4.67196331e-01  2.36433202e-01 -5.20988072e-01]\n",
            " [-1.50603807e+00  3.17588164e-01  7.92176427e-01  8.60710147e-01\n",
            "   9.65084143e-01  5.33151981e-01  9.93849516e-01 -5.20988072e-01]\n",
            " [-1.72339538e+00 -2.25734953e+00 -3.52058844e-01 -2.23753594e-01\n",
            "  -1.48065771e+00  2.65721056e-01 -3.58679616e-01 -5.20988072e-01]\n",
            " [-2.15810999e+00 -1.70698117e+00  2.27896020e-01 -1.23684074e+00\n",
            "   3.24168754e-01  6.37491656e-02 -1.04986864e+00 -5.20988072e-01]\n",
            " [-2.01894219e-01  2.27479700e-02 -1.58740556e-01  7.70913787e-01\n",
            "   5.70926638e-01  5.47975029e-02  7.77444855e-01 -5.20988072e-01]\n",
            " [-4.19251527e-01  1.99652087e-01 -1.60601530e+00  6.17415734e-01\n",
            "  -1.20213806e-01  2.87624970e+00  1.03116066e+00 -5.20988072e-01]\n",
            " [ 2.32820398e-01 -1.01902072e+00  4.50273692e-02 -8.00906271e-01\n",
            "   5.33803771e-01  2.71875324e-01 -5.95605409e-01 -5.20988072e-01]\n",
            " [-6.36608835e-01 -4.68652354e-01 -4.09531848e-01  1.73038872e-01\n",
            "  -2.04841922e+00 -6.89309463e-01 -2.46746171e-01 -5.20988072e-01]\n",
            " [-4.19251527e-01  1.04486064e+00  1.33849285e-01 -4.28673494e-01\n",
            "  -1.67828239e+00 -1.17158029e+00 -8.15741185e-01 -5.20988072e-01]\n",
            " [-5.53097870e-01  3.17588164e-01  6.09307777e-01  3.44956691e-01\n",
            "  -3.37491766e-01 -5.61748269e-01  1.65542020e-01  1.91942974e+00]\n",
            " [-8.53966144e-01 -9.51881077e-02  2.54020113e-01 -9.81266483e-01\n",
            "   6.15692449e-01  2.00234363e+00 -4.46360815e-01 -5.20988072e-01]\n",
            " [-6.36608835e-01 -6.25900457e-01 -2.52787290e-01 -2.85920305e-01\n",
            "  -8.88875533e-01 -1.32487752e+00 -6.06798754e-01 -5.20988072e-01]\n",
            " [ 6.29783482e-01  7.89332475e-01 -2.16213560e-01 -9.86526809e-02\n",
            "   2.82776634e-02 -3.52786035e-02 -9.09721261e-02  1.91942974e+00]\n",
            " [ 1.75432156e+00  1.67385306e+00  1.05341736e+00  2.42880486e-01\n",
            "   2.39102673e-02  7.23934293e-01  3.45568311e-01 -5.20988072e-01]\n",
            " [-6.36608835e-01 -5.27620393e-01 -1.00516117e+00 -1.56302410e+00\n",
            "  -2.89132668e+00 -8.13513783e-01 -1.93600842e+00 -5.20988072e-01]\n",
            " [-1.52548583e+00  3.37244177e-01  3.79415759e-01  2.16785817e-01\n",
            "   1.52411085e+00 -4.42579258e-01  3.27845516e-01  1.91942974e+00]\n",
            " [-6.67496453e-01  8.08988488e-01 -7.59594694e-01 -3.98741374e-01\n",
            "   4.26802564e-01 -9.95903912e-01 -4.68747504e-01  1.91942974e+00]\n",
            " [-1.07132345e+00 -1.29420490e+00 -1.17758018e+00  5.33103910e-02\n",
            "  -1.69347013e-01 -1.08598002e+00 -1.62796087e-01 -5.20988072e-01]\n",
            " [-8.53966144e-01 -6.65212483e-01 -2.26956727e+00  2.53625350e-01\n",
            "  -3.13471087e-01 -9.34361230e-01  2.18940981e-02 -5.20988072e-01]\n",
            " [-1.28868076e+00 -1.72663718e+00 -4.19230051e+00  1.03197258e-01\n",
            "  -2.20018623e+00  8.55688436e-02 -1.97308899e-01 -5.20988072e-01]\n",
            " [ 8.84892323e-01 -1.84457326e+00 -1.17758018e+00 -5.64519270e-01\n",
            "  -1.02426481e+00 -6.04551549e-02 -6.56236025e-01 -5.20988072e-01]\n",
            " [-2.01894219e-01  4.24039830e-02 -6.99186398e-02  1.00883577e+00\n",
            "   6.77927844e-01 -1.16206915e+00  7.94234871e-01 -5.20988072e-01]\n",
            " [ 6.67535014e-01 -4.88308367e-01 -1.99599811e-03 -5.33052170e-01\n",
            "  -4.16006754e-02 -1.41495362e+00 -7.26194429e-01 -5.20988072e-01]\n",
            " [ 1.54630894e-02  3.76556203e-01  1.31988310e+00  2.34438093e-01\n",
            "   1.44222217e+00  1.81239739e-01  4.39778961e-01 -5.20988072e-01]\n",
            " [ 8.84892323e-01  1.32004482e+00 -6.46938212e-02 -1.56214451e-01\n",
            "   4.22435168e-01 -3.35718784e-01 -1.39476619e-01 -5.20988072e-01]\n",
            " [ 4.50177706e-01 -3.62200688e-02  5.04811405e-01  2.43647976e-01\n",
            "   7.51081730e-01  2.17018730e+00  6.95360328e-01 -5.20988072e-01]\n",
            " [ 3.04891505e-01  1.10382868e+00  1.05341736e+00 -6.56505996e-02\n",
            "   8.29694861e-01  1.04675363e+00  2.35500423e-01  1.91942974e+00]\n",
            " [ 4.38737848e-01 -6.65212483e-01 -3.78182937e-01 -7.29529677e-01\n",
            "  -5.39483839e-01 -2.68581314e-01 -7.72833364e-01  1.91942974e+00]\n",
            " [ 1.10224963e+00 -3.50716276e-01  1.10566554e+00  3.85633675e-01\n",
            "  -8.74583352e-02 -1.56685529e-01  3.05458826e-01 -5.20988072e-01]\n",
            " [ 1.10224963e+00  3.09195709e-03  8.28750158e-01  1.96063580e-01\n",
            "  -6.74873121e-01  4.08947660e-01  1.52483118e-01 -5.20988072e-01]\n",
            " [-6.36608835e-01 -7.04524509e-01 -7.96168424e-01  1.88388677e-01\n",
            "   1.63666945e-01 -6.56859685e-01  7.78608208e-02 -5.20988072e-01]\n",
            " [-4.19251527e-01 -4.88308367e-01  6.87680056e-01 -8.07046193e-01\n",
            "   3.52556829e-01  9.47166383e-01 -5.08856989e-01 -5.20988072e-01]\n",
            " [ 1.75432156e+00 -4.88308367e-01  1.18174829e-01  2.31368132e-01\n",
            "   1.15069848e+00  1.17823118e+00  5.68502423e-01 -5.20988072e-01]\n",
            " [ 2.32820398e-01 -1.49076503e+00 -7.38695419e-01 -1.99961396e-01\n",
            "   4.34445508e-01 -3.34040348e-01 -1.75854989e-01 -5.20988072e-01]\n",
            " [ 3.24339264e-01  7.50020449e-01  4.63012856e-01  1.17768363e+00\n",
            "   4.02880029e-02  9.89127302e-01  1.22797697e+00 -5.20988072e-01]\n",
            " [ 2.47692214e-01 -1.34500134e-01 -1.29775101e+00 -9.27542164e-01\n",
            "  -8.26640138e-01 -1.40544248e+00 -1.18512156e+00  1.91942974e+00]\n",
            " [ 2.32820398e-01  7.10708423e-01  3.11493117e-01  1.39718584e+00\n",
            "  -3.78982030e-01  1.75729186e+00  1.49848280e+00 -5.20988072e-01]\n",
            " [ 9.55420977e-02  4.74836268e-01 -1.40747220e+00  3.28839395e-01\n",
            "  -1.94459541e-01  3.68665178e-01  3.30643852e-01  1.91942974e+00]\n",
            " [ 1.52741389e-01  1.26107679e+00  2.06996745e-01  6.49348503e-03\n",
            "   4.18067772e-01  6.89246600e-01  1.82332037e-01  1.91942974e+00]\n",
            " [ 2.32820398e-01 -1.25489287e+00  1.07725192e-01  4.07890892e-01\n",
            "   3.36179094e-01 -6.04268667e-01  3.07324384e-01 -5.20988072e-01]\n",
            " [-1.72339538e+00 -6.84868496e-01 -1.17235536e+00 -4.74722910e-01\n",
            "  -6.46485045e-01 -9.97582348e-01 -6.85152165e-01 -5.20988072e-01]\n",
            " [-4.19251527e-01  2.58620125e-01 -4.09531848e-01  1.45398012e+00\n",
            "  -1.06575508e+00  1.33600423e+00  1.38281824e+00 -5.20988072e-01]\n",
            " [ 8.84892323e-01 -5.86588431e-01 -9.99936349e-01  1.33194917e+00\n",
            "   3.40546490e-01  1.54580883e+00  1.50407947e+00 -5.20988072e-01]\n",
            " [ 8.84892323e-01  7.50020449e-01  3.06268299e-01  2.56695311e-01\n",
            "   2.21534944e-01  4.94547935e-01  3.45568311e-01 -5.20988072e-01]\n",
            " [-1.28868076e+00 -5.07964380e-01  6.98129693e-01  2.08343424e-01\n",
            "   5.78569581e-01  7.18898983e-01  3.89408911e-01 -5.20988072e-01]\n",
            " [-6.67496453e-01  8.28644501e-01 -1.16942007e-01 -4.00276354e-01\n",
            "  -3.01798117e+00 -7.55610858e-02 -7.86825045e-01  1.91942974e+00]\n",
            " [-1.50603807e+00 -1.39248496e+00 -1.34999919e+00 -4.72815394e+00\n",
            "  -1.90429514e+00 -8.34773982e-01 -4.63080612e+00 -5.20988072e-01]\n",
            " [-3.42604476e-01  6.71396397e-01  3.58516485e-01 -1.01273358e+00\n",
            "   3.28536150e-01  5.48817391e-01 -7.65371135e-01  1.91942974e+00]\n",
            " [ 1.75432156e+00  1.02520463e+00  1.11089036e+00  9.85923165e-02\n",
            "   7.39071391e-01 -7.06093830e-01  6.85330337e-02 -5.20988072e-01]\n",
            " [-1.10564303e+00 -9.99364703e-01 -2.28952725e-02  9.62898457e-02\n",
            "   2.91413283e-01  6.87568163e-01  2.44828210e-01 -5.20988072e-01]\n",
            " [ 1.31960694e+00  1.99652087e-01  7.13804149e-01 -1.51160225e+00\n",
            "   6.69193052e-01 -9.34361230e-01 -1.41924901e+00 -5.20988072e-01]\n",
            " [ 3.04891505e-01 -5.07964380e-01  2.33120838e-01  1.19687088e+00\n",
            "   2.19887356e+00  2.18753115e+00  1.75033305e+00  1.91942974e+00]\n",
            " [-8.53966144e-01 -3.50716276e-01  6.19757414e-01  1.10093460e+00\n",
            "   9.85829275e-01  1.91786231e+00  1.44997831e+00 -5.20988072e-01]\n",
            " [-1.07132345e+00 -1.33351692e+00  1.44298922e-01 -1.02117598e+00\n",
            "   9.81560022e-02 -1.19339997e+00 -1.10490259e+00 -5.20988072e-01]\n",
            " [ 8.84892323e-01  1.16279672e+00  1.31465829e+00  5.36061766e-01\n",
            "   1.56560112e+00 -2.34453099e-01  6.54318065e-01 -5.20988072e-01]\n",
            " [ 3.81538556e-01  1.35935685e+00  6.98129693e-01  1.25596763e+00\n",
            "   2.39102673e-02  1.12564016e+00  1.31938929e+00 -5.20988072e-01]\n",
            " [ 4.50177706e-01  3.76556203e-01  3.27167573e-01  1.75341343e-01\n",
            "  -3.71339086e-01 -1.19507841e+00 -1.00299913e-01 -5.20988072e-01]\n",
            " [ 1.10224963e+00  8.48300514e-01  7.97401246e-01 -1.81936585e+00\n",
            "  -3.66971690e-01 -5.06359855e-01 -1.76344436e+00 -5.20988072e-01]\n",
            " [ 6.67535014e-01  1.00554862e+00  1.33033274e+00  7.91636024e-01\n",
            "   9.07216143e-01  8.89257171e-02  8.47403258e-01 -5.20988072e-01]\n",
            " [ 1.31960694e+00 -1.93468172e-01  9.01897618e-01  1.26747999e+00\n",
            "   2.37902865e+00  2.90702104e+00  1.96207382e+00 -5.20988072e-01]\n",
            " [-9.55035364e-02 -8.61772613e-01 -3.22048425e+00  3.13489590e-01\n",
            "  -1.89228480e+00 -1.25270474e+00 -1.96376120e-01  1.91942974e+00]]\n"
          ],
          "name": "stdout"
        }
      ]
    },
    {
      "cell_type": "code",
      "metadata": {
        "id": "KpGHbeiY89_a",
        "colab": {
          "base_uri": "https://localhost:8080/"
        },
        "outputId": "a8c071c6-e6c2-4a4e-974b-67df7b137fc8"
      },
      "source": [
        "print(X_test)"
      ],
      "execution_count": 32,
      "outputs": [
        {
          "output_type": "stream",
          "text": [
            "[[-8.53966144e-01 -1.09764477e+00 -6.39423866e-01  4.39357993e-01\n",
            "  -5.23106104e-01 -7.34627255e-01  1.93525381e-01 -5.20988072e-01]\n",
            " [-1.50603807e+00 -1.93468172e-01 -1.02083562e+00 -4.25603533e-01\n",
            "   9.03940596e-01 -1.01828307e+00 -4.31436356e-01 -5.20988072e-01]\n",
            " [ 1.75432156e+00  1.18245273e+00  5.88408502e-01  1.44860769e+00\n",
            "   1.96849341e+00 -9.23731131e-01  1.40613771e+00 -5.20988072e-01]\n",
            " [ 1.08737781e+00  1.16279672e+00  3.27167573e-01 -5.65286761e-01\n",
            "   5.78569581e-01 -1.00373662e+00 -5.98403745e-01  1.91942974e+00]\n",
            " [ 4.76489380e-01  7.89332475e-01  2.12221564e-01  8.37685439e-01\n",
            "  -1.24581203e-01 -2.26934709e-03  7.30805919e-01  1.91942974e+00]\n",
            " [-1.10564303e+00 -7.43836535e-01 -1.21937873e+00 -2.39870889e-01\n",
            "  -6.09362178e-01 -2.24105883e-02 -3.01780115e-01  1.91942974e+00]\n",
            " [-1.84923382e+00 -1.21558085e+00 -7.38695419e-01 -9.06052437e-01\n",
            "  -1.52969278e-01 -1.31480690e+00 -1.05733087e+00 -5.20988072e-01]\n",
            " [ 2.32820398e-01 -1.03867673e+00  1.23399648e-01 -9.40477394e-02\n",
            "   7.01948523e-01  5.03499598e-01  9.93147312e-02 -5.20988072e-01]\n",
            " [-6.36608835e-01 -1.73812159e-01 -8.17067698e-01 -1.64656844e-01\n",
            "  -1.02426481e+00 -1.62563201e-02 -2.90586770e-01 -5.20988072e-01]\n",
            " [ 6.67535014e-01  1.45763692e+00  9.28021711e-01 -1.05560093e-01\n",
            "   8.46072597e-01 -6.51264896e-01 -9.00393473e-02 -5.20988072e-01]\n",
            " [-2.37546730e+00 -1.23523686e+00 -3.33449096e-02 -1.18141760e-03\n",
            "   1.29045516e+00 -1.21298173e+00 -3.22070672e-02 -5.20988072e-01]\n",
            " [ 1.53696425e+00  1.16279672e+00  1.08999109e+00 -5.21539816e-01\n",
            "  -3.39577320e-02  1.85715571e-01 -4.38898586e-01 -5.20988072e-01]\n",
            " [ 1.88950469e-02  3.37244177e-01 -8.64091065e-01  2.10758000e-02\n",
            "  -6.74873121e-01 -1.29018982e+00 -2.97116221e-01  1.91942974e+00]\n",
            " [ 1.75432156e+00 -3.31060263e-01  3.68966122e-01  2.84324960e-01\n",
            "  -1.97417348e+00 -8.86805522e-01 -1.71191095e-01 -5.20988072e-01]\n",
            " [-3.02753923e+00 -3.62200688e-02  4.21214308e-01 -1.72419706e+00\n",
            "  -7.74231384e-01 -1.54195534e+00 -1.91362173e+00 -5.20988072e-01]\n",
            " [-1.94075269e+00 -9.01084639e-01  2.41280948e-02 -5.27679738e-01\n",
            "   3.94047093e-01 -1.32935335e+00 -6.45975460e-01 -5.20988072e-01]\n",
            " [ 1.31617498e+00  1.32004482e+00  1.98343507e+00  1.78169846e+00\n",
            "   1.35159870e+00  7.29529082e-01  1.90424154e+00 -5.20988072e-01]\n",
            " [-8.53966144e-01 -8.61772613e-01 -1.96130297e+00 -6.26685982e-01\n",
            "  -5.97351838e-01 -1.20011372e+00 -8.48388440e-01 -5.20988072e-01]\n",
            " [-3.42604476e-01 -2.72092224e-01 -2.05763923e-01 -1.20909899e-01\n",
            "  -1.07776542e+00  3.60272994e-01 -1.94510563e-01  1.91942974e+00]\n",
            " [ 1.54630894e-02 -3.90028302e-01  4.15989489e-01 -1.66191824e-01\n",
            "   2.17167548e-01  3.82652151e-01 -5.27281989e-02 -5.20988072e-01]\n",
            " [-1.42939102e+00  1.43798090e+00 -2.47562472e-01 -1.24374815e+00\n",
            "   3.31811698e-01  6.24347045e-01 -9.57523549e-01  1.91942974e+00]\n",
            " [-7.42999518e-01 -3.11404250e-01  4.83912131e-01 -1.96011839e-02\n",
            "  -3.53869502e-01 -1.25494265e+00 -2.83124541e-01 -5.20988072e-01]\n",
            " [-2.47842603e+00 -1.11730078e+00 -1.15145609e+00 -1.62595830e+00\n",
            "  -6.99985649e-01 -1.42614320e+00 -1.79515883e+00  1.91942974e+00]\n",
            " [ 8.84892323e-01 -1.09764477e+00 -1.61124012e+00 -7.11109910e-01\n",
            "  -1.08977576e+00 -8.12954304e-01 -9.25809073e-01 -5.20988072e-01]\n",
            " [-4.19251527e-01  1.20210875e+00  1.54748560e-01 -2.05333827e-01\n",
            "   3.85312301e-01 -2.40047889e-01 -1.71191095e-01 -5.20988072e-01]\n",
            " [-1.94075269e+00 -6.84868496e-01 -4.09302895e+00 -4.72661896e+00\n",
            "  -3.75388742e+00 -1.59118948e+00 -5.01511095e+00 -5.20988072e-01]\n",
            " [-8.53966144e-01  4.24039830e-02  3.74190940e-01 -8.95307573e-01\n",
            "  -3.90992369e-01  2.20403264e-01 -8.15741185e-01 -5.20988072e-01]\n",
            " [ 6.67535014e-01  6.51740385e-01  7.45153060e-01  4.27078149e-01\n",
            "  -2.86621415e+00  2.42782421e-01  2.84235491e-02 -5.20988072e-01]\n",
            " [ 1.41112581e+00  1.04486064e+00  1.39074104e-01  1.66131460e-01\n",
            "  -1.20213806e-01 -5.74056805e-01  3.30874426e-02  1.91942974e+00]\n",
            " [ 2.32820398e-01  2.78276138e-01  6.77230418e-01 -1.81245844e+00\n",
            "   7.67459466e-01 -2.03681759e-01 -1.54890525e+00 -5.20988072e-01]]\n"
          ],
          "name": "stdout"
        }
      ]
    },
    {
      "cell_type": "code",
      "metadata": {
        "id": "aF6idxZb9EtE",
        "colab": {
          "base_uri": "https://localhost:8080/"
        },
        "outputId": "513edb82-4ddb-43d7-9885-6dfc58db9ecb"
      },
      "source": [
        "# Fitting Naive Bayes to the Training set\n",
        "from sklearn.naive_bayes import GaussianNB\n",
        "classifier = GaussianNB()\n",
        "classifier.fit(X_train, y_train)"
      ],
      "execution_count": 33,
      "outputs": [
        {
          "output_type": "execute_result",
          "data": {
            "text/plain": [
              "GaussianNB(priors=None, var_smoothing=1e-09)"
            ]
          },
          "metadata": {
            "tags": []
          },
          "execution_count": 33
        }
      ]
    },
    {
      "cell_type": "code",
      "metadata": {
        "id": "Ax2tc-DC9ePa"
      },
      "source": [
        "# Predicting the Test set results\n",
        "y_pred = classifier.predict(X_test)"
      ],
      "execution_count": 34,
      "outputs": []
    },
    {
      "cell_type": "code",
      "metadata": {
        "id": "bRHq5nV4mXBq",
        "colab": {
          "base_uri": "https://localhost:8080/"
        },
        "outputId": "1a1f1c4e-3dec-43a2-b8de-526271054475"
      },
      "source": [
        "print(y_pred)"
      ],
      "execution_count": 35,
      "outputs": [
        {
          "output_type": "stream",
          "text": [
            "[0 0 1 1 1 0 0 1 0 1 0 1 0 0 1 0 1 0 0 1 1 0 1 0 1 1 1 0 1 1]\n"
          ],
          "name": "stdout"
        }
      ]
    },
    {
      "cell_type": "code",
      "metadata": {
        "id": "fapkzgOR9oFV",
        "colab": {
          "base_uri": "https://localhost:8080/"
        },
        "outputId": "71e8f086-4a85-4059-87c2-ff234c09066f"
      },
      "source": [
        "# Making the Confusion Matrix\n",
        "from sklearn.metrics import confusion_matrix\n",
        "cm = confusion_matrix(y_test, y_pred)\n",
        "print('Confusion matrix: ')\n",
        "print(cm)"
      ],
      "execution_count": 36,
      "outputs": [
        {
          "output_type": "stream",
          "text": [
            "Confusion matrix: \n",
            "[[10  3]\n",
            " [ 4 13]]\n"
          ],
          "name": "stdout"
        }
      ]
    },
    {
      "cell_type": "code",
      "metadata": {
        "id": "THlm7D1z-Jux",
        "colab": {
          "base_uri": "https://localhost:8080/"
        },
        "outputId": "77fc309d-c98f-43e0-c97a-f1c93e82215e"
      },
      "source": [
        "# calculate Accuracy\n",
        "from sklearn.metrics import accuracy_score\n",
        "print('Accuracy: %.2f' % (accuracy_score(y_test, y_pred)*100))"
      ],
      "execution_count": 37,
      "outputs": [
        {
          "output_type": "stream",
          "text": [
            "Accuracy: 76.67\n"
          ],
          "name": "stdout"
        }
      ]
    },
    {
      "cell_type": "code",
      "metadata": {
        "id": "nquS3pa4-lOH",
        "colab": {
          "base_uri": "https://localhost:8080/"
        },
        "outputId": "44ca2315-ccfc-4d47-d924-91c868c11336"
      },
      "source": [
        "from sklearn.metrics import precision_score\n",
        "from sklearn.metrics import recall_score\n",
        "from sklearn.metrics import f1_score\n",
        "# calculate precision\n",
        "# Precision = TruePositives / (TruePositives + FalsePositives)\n",
        "precision = precision_score(y_test, y_pred, average='binary')\n",
        "print('Precision: %.3f' % (precision*100))"
      ],
      "execution_count": 38,
      "outputs": [
        {
          "output_type": "stream",
          "text": [
            "Precision: 81.250\n"
          ],
          "name": "stdout"
        }
      ]
    },
    {
      "cell_type": "code",
      "metadata": {
        "id": "1EcT47xu-sNJ",
        "colab": {
          "base_uri": "https://localhost:8080/"
        },
        "outputId": "65f1d1f6-a9e8-4b49-ef59-69aa75b7acd7"
      },
      "source": [
        "# calculate recall\n",
        "# Recall = TruePositives / (TruePositives + FalseNegatives)\n",
        "recall = recall_score(y_test, y_pred, average='binary')\n",
        "print('Recall: %.3f' % (recall*100))"
      ],
      "execution_count": 39,
      "outputs": [
        {
          "output_type": "stream",
          "text": [
            "Recall: 76.471\n"
          ],
          "name": "stdout"
        }
      ]
    },
    {
      "cell_type": "code",
      "metadata": {
        "id": "SZA6PXIrF7KT",
        "colab": {
          "base_uri": "https://localhost:8080/"
        },
        "outputId": "1bb931cc-798e-4ea0-a8d2-fc53e0e477a6"
      },
      "source": [
        "# calculate recall\n",
        "# Recall = TruePositives / (TruePositives + FalseNegatives)\n",
        "recall = recall_score(y_test, y_pred, average='binary')\n",
        "print('Recall: %.3f' % (recall*100))"
      ],
      "execution_count": 40,
      "outputs": [
        {
          "output_type": "stream",
          "text": [
            "Recall: 76.471\n"
          ],
          "name": "stdout"
        }
      ]
    },
    {
      "cell_type": "code",
      "metadata": {
        "id": "82QxZrqD_At8",
        "colab": {
          "base_uri": "https://localhost:8080/"
        },
        "outputId": "fda111a5-3013-4a36-911d-65357336bbef"
      },
      "source": [
        "# F-Measure = (2 * Precision * Recall) / (Precision + Recall)\n",
        "# calculate score\n",
        "score = f1_score(y_test, y_pred, average='binary')\n",
        "print('F-Measure: %.3f' % (score*100))"
      ],
      "execution_count": 41,
      "outputs": [
        {
          "output_type": "stream",
          "text": [
            "F-Measure: 78.788\n"
          ],
          "name": "stdout"
        }
      ]
    },
    {
      "cell_type": "code",
      "metadata": {
        "id": "-vO2PW75dT75",
        "colab": {
          "base_uri": "https://localhost:8080/"
        },
        "outputId": "0678f6a7-134c-4583-bac4-a2f265051824"
      },
      "source": [
        "import pickle \n",
        "print(\"[INFO] Saving model...\")\n",
        "# Save the trained model as a pickle string. \n",
        "saved_model=pickle.dump(classifier,open('/content/drive/My Drive/Naive_Bayes_education_model.pkl', 'wb')) \n",
        "# Saving model to disk\n",
        " "
      ],
      "execution_count": 42,
      "outputs": [
        {
          "output_type": "stream",
          "text": [
            "[INFO] Saving model...\n"
          ],
          "name": "stdout"
        }
      ]
    },
    {
      "cell_type": "code",
      "metadata": {
        "colab": {
          "base_uri": "https://localhost:8080/"
        },
        "id": "1mENmkqMc_KI",
        "outputId": "00bce139-df3a-4f68-d359-a02aad744513"
      },
      "source": [
        "# Load the pickled model \r\n",
        "model = pickle.load(open('/content/drive/My Drive/Naive_Bayes_education_model.pkl','rb'))  \r\n",
        "# Use the loaded pickled model to make predictions \r\n",
        "model.predict(X_test) "
      ],
      "execution_count": 43,
      "outputs": [
        {
          "output_type": "execute_result",
          "data": {
            "text/plain": [
              "array([0, 0, 1, 1, 1, 0, 0, 1, 0, 1, 0, 1, 0, 0, 1, 0, 1, 0, 0, 1, 1, 0,\n",
              "       1, 0, 1, 1, 1, 0, 1, 1])"
            ]
          },
          "metadata": {
            "tags": []
          },
          "execution_count": 43
        }
      ]
    },
    {
      "cell_type": "code",
      "metadata": {
        "id": "zX87_5gbfdTk",
        "colab": {
          "base_uri": "https://localhost:8080/"
        },
        "outputId": "9de74db3-ca15-4c19-baa8-f289435c95a3"
      },
      "source": [
        "# save the model to disk\n",
        "import joblib\n",
        "filename = '/content/drive/My Drive/FDP/naivebayes_model.sav'\n",
        "joblib.dump(classifier, filename)\n",
        " \n",
        "# some time later...\n",
        " \n",
        "# load the model from disk\n",
        "randomforest_model = joblib.load(filename)\n",
        "result = randomforest_model.score(X_test, y_test)\n",
        "print(result)"
      ],
      "execution_count": 44,
      "outputs": [
        {
          "output_type": "stream",
          "text": [
            "0.7666666666666667\n"
          ],
          "name": "stdout"
        }
      ]
    },
    {
      "cell_type": "code",
      "metadata": {
        "id": "3m8yPCvZJOmY",
        "colab": {
          "base_uri": "https://localhost:8080/"
        },
        "outputId": "1889d20f-9373-43cc-fedf-9ea83afb1f64"
      },
      "source": [
        "marksinsecondary =  89.30#@param {type:\"number\"}\n",
        "marksinhighersecondary =  72.00#@param {type:\"number\"}\n",
        "aggregatemarks =  74.90#@param {type:\"number\"}\n",
        "VIIsemmarks =  67#@param {type:\"number\"}\n",
        "VIsemmarks =  67#@param {type:\"number\"}\n",
        "Vsemmarks =  67#@param {type:\"number\"}\n",
        "finalperformance = 56.630 #@param {type:\"number\"}\n",
        "medium =  1#@param {type:\"number\"}\n",
        "   # load the model from disk\n",
        "naive_Bayes_model = joblib.load(filename)\n",
        "     \n",
        "output=naive_Bayes_model.predict(sc.transform([[marksinsecondary, marksinhighersecondary ,aggregatemarks,VIIsemmarks, VIsemmarks,Vsemmarks,finalperformance, medium]]))\n",
        "print(\"Placed =\", output)\n",
        "if output==[1]:\n",
        "  print( 'Student will be Placed')\n",
        "else:\n",
        "  print('Student will not be placed')"
      ],
      "execution_count": 50,
      "outputs": [
        {
          "output_type": "stream",
          "text": [
            "Placed = [1]\n",
            "Student will be Placed\n"
          ],
          "name": "stdout"
        }
      ]
    },
    {
      "cell_type": "code",
      "metadata": {
        "id": "Zdra4zWRphNh",
        "colab": {
          "base_uri": "https://localhost:8080/"
        },
        "outputId": "1396c2d3-84c4-4530-db1b-cd39dca45283"
      },
      "source": [
        "!pip install flask-ngrok"
      ],
      "execution_count": 1,
      "outputs": [
        {
          "output_type": "stream",
          "text": [
            "Collecting flask-ngrok\n",
            "  Downloading https://files.pythonhosted.org/packages/af/6c/f54cb686ad1129e27d125d182f90f52b32f284e6c8df58c1bae54fa1adbc/flask_ngrok-0.0.25-py3-none-any.whl\n",
            "Requirement already satisfied: Flask>=0.8 in /usr/local/lib/python3.6/dist-packages (from flask-ngrok) (1.1.2)\n",
            "Requirement already satisfied: requests in /usr/local/lib/python3.6/dist-packages (from flask-ngrok) (2.23.0)\n",
            "Requirement already satisfied: click>=5.1 in /usr/local/lib/python3.6/dist-packages (from Flask>=0.8->flask-ngrok) (7.1.2)\n",
            "Requirement already satisfied: itsdangerous>=0.24 in /usr/local/lib/python3.6/dist-packages (from Flask>=0.8->flask-ngrok) (1.1.0)\n",
            "Requirement already satisfied: Jinja2>=2.10.1 in /usr/local/lib/python3.6/dist-packages (from Flask>=0.8->flask-ngrok) (2.11.3)\n",
            "Requirement already satisfied: Werkzeug>=0.15 in /usr/local/lib/python3.6/dist-packages (from Flask>=0.8->flask-ngrok) (1.0.1)\n",
            "Requirement already satisfied: chardet<4,>=3.0.2 in /usr/local/lib/python3.6/dist-packages (from requests->flask-ngrok) (3.0.4)\n",
            "Requirement already satisfied: urllib3!=1.25.0,!=1.25.1,<1.26,>=1.21.1 in /usr/local/lib/python3.6/dist-packages (from requests->flask-ngrok) (1.24.3)\n",
            "Requirement already satisfied: idna<3,>=2.5 in /usr/local/lib/python3.6/dist-packages (from requests->flask-ngrok) (2.10)\n",
            "Requirement already satisfied: certifi>=2017.4.17 in /usr/local/lib/python3.6/dist-packages (from requests->flask-ngrok) (2020.12.5)\n",
            "Requirement already satisfied: MarkupSafe>=0.23 in /usr/local/lib/python3.6/dist-packages (from Jinja2>=2.10.1->Flask>=0.8->flask-ngrok) (1.1.1)\n",
            "Installing collected packages: flask-ngrok\n",
            "Successfully installed flask-ngrok-0.0.25\n"
          ],
          "name": "stdout"
        }
      ]
    },
    {
      "cell_type": "code",
      "metadata": {
        "colab": {
          "base_uri": "https://localhost:8080/"
        },
        "id": "R6UEOsncYvzf",
        "outputId": "c2d40875-a167-4fff-be20-28d5b47edc5d"
      },
      "source": [
        "# Mounting Google Drive\r\n",
        "from google.colab import drive\r\n",
        "drive.mount('/content/drive')"
      ],
      "execution_count": 2,
      "outputs": [
        {
          "output_type": "stream",
          "text": [
            "Mounted at /content/drive\n"
          ],
          "name": "stdout"
        }
      ]
    },
    {
      "cell_type": "code",
      "metadata": {
        "id": "DIiS_8ox9mMS"
      },
      "source": [
        "%mkdir templates -p"
      ],
      "execution_count": 3,
      "outputs": []
    },
    {
      "cell_type": "code",
      "metadata": {
        "id": "Iw6m2QBUaj99",
        "colab": {
          "base_uri": "https://localhost:8080/"
        },
        "outputId": "9067b9ef-3fab-4a46-bdaa-d110a220e2ce"
      },
      "source": [
        "%%writefile templates/index.html\r\n",
        "<!DOCTYPE html>\r\n",
        "<html >\r\n",
        "<!--From https://codepen.io/frytyler/pen/EGdtg-->\r\n",
        "<head>\r\n",
        "<title>Machine Learning Lab Experiment Deployment</title>\r\n",
        "<meta charset=\"UTF-8\">\r\n",
        "<link href='https://fonts.googleapis.com/css?family=Pacifico' rel='stylesheet' type='text/css'>\r\n",
        "<link href='https://fonts.googleapis.com/css?family=Arimo' rel='stylesheet' type='text/css'>\r\n",
        "<link href='https://fonts.googleapis.com/css?family=Hind:300' rel='stylesheet' type='text/css'>\r\n",
        "<link href='https://fonts.googleapis.com/css?family=Open+Sans+Condensed:300' rel='stylesheet' type='text/css'>\r\n",
        " <link href=\"https://cdn.jsdelivr.net/npm/bootstrap@5.0.0-beta1/dist/css/bootstrap.min.css\" rel=\"stylesheet\" integrity=\"sha384-giJF6kkoqNQ00vy+HMDP7azOuL0xtbfIcaT9wjKHr8RbDVddVHyTfAAsrekwKmP1\" crossorigin=\"anonymous\"> \r\n",
        "<style><!DOCTYPE html>\r\n",
        "\r\n",
        "h1 {text-align: center;}\r\n",
        "h2 {text-align: center;}\r\n",
        "h3 {text-align: center;}\r\n",
        "p {text-align: center;}\r\n",
        "div {text-align: center;}\r\n",
        "</style>\r\n",
        "</head>\r\n",
        "\r\n",
        "<body>\r\n",
        " \r\n",
        "     \r\n",
        "<div class=\"\" style=\"background-color:blue;\" >\r\n",
        "<div class=\"clearfix\">\r\n",
        "           \r\n",
        "<div class=\"col-md-12\">\r\n",
        "<center><p style=\"font-size:40px;color:white;margin-top:10px;\">Poornima Institute of Engineering & Technology</p></center> \r\n",
        "<center><p style=\"font-size:30px;color:white;margin-top:10px;\">Department of Computer Engineering</p></center> \r\n",
        "<center><p style=\"font-size:25px;color:white;margin-top:10px;\">Machine Learning Lab Experiment Deployment</p></center> \r\n",
        "</div>\r\n",
        "</div>\r\n",
        "</div>\r\n",
        "\r\n",
        "<div class=\"login\">\r\n",
        "<h2 >Naive Bayes classification for prediction of Placement</h2>\r\n",
        "<h4>Developed by Deepak Moud</h4>\r\n",
        "<!-- Main Input For Receiving Query to our ML -->\r\n",
        "<form action=\"{{ url_for('predict')}}\"method=\"get\">\r\n",
        "<div class=\"form-floating mb-3\">\r\n",
        "<input type=\"text\" class=\"form-control\" id=\"floatingInput\" name=\"percentage10\" placeholder=\"Percentage\" required=\"required\" />\r\n",
        "<label for=\"floatingInput\">Enter 10th Class Percentage</label>\r\n",
        "</div>\r\n",
        "<br>\r\n",
        "<div class=\"form-floating mb-3\">\r\n",
        "<input type=\"text\" class=\"form-control\" id=\"floatingInput\" name=\"percentage12\" placeholder=\"Percentage\" required=\"required\" />\r\n",
        "<label for=\"floatingInput\">Enter 12th Class Percentage</label>\r\n",
        "</div>\r\n",
        "<br>\r\n",
        "<div class=\"form-floating mb-3\">\r\n",
        "<input type=\"text\" name=\"BTechpercentage\" class=\"form-control\" id=\"floatingInput\" placeholder=\"Percentage\" required=\"required\" />\r\n",
        "<label for=\"floatingInput\">Enter BTech Aggregate</label>\r\n",
        "</div>\r\n",
        "<br>\r\n",
        "<div class=\"form-floating mb-3\">\r\n",
        "<input type=\"text\" name=\"marks7sem\" class=\"form-control\" id=\"floatingInput\" placeholder=\"Percentage\" required=\"required\" />\r\n",
        "<label for=\"floatingInput\">Enter VII Sem Placement Performance Marks</label>\r\n",
        "</div>\r\n",
        "<br>\r\n",
        "<div class=\"form-floating mb-3\">\r\n",
        "<input type=\"text\" name=\"marks6sem\" class=\"form-control\" id=\"floatingInput\" placeholder=\"Percentage\" required=\"required\" />\r\n",
        "<label for=\"floatingInput\">Enter VI Sem Placement Performance Marks</label>\r\n",
        "</div>\r\n",
        "<br>\r\n",
        "<div class=\"form-floating mb-3\">\r\n",
        "<input type=\"text\" name=\"marks5sem\" class=\"form-control\" id=\"floatingInput\" placeholder=\"Percentage\" required=\"required\" />\r\n",
        "<label for=\"floatingInput\">Enter V Sem Placement performance Marks</label>\r\n",
        "</div>\r\n",
        "<br>\r\n",
        "<div class=\"form-floating mb-3\">\r\n",
        "<input type=\"text\" name=\"finalperformance\" class=\"form-control\" id=\"floatingInput\" placeholder=\"Percentage\" required=\"required\" />\r\n",
        "<label for=\"floatingInput\">Enter Final Performance Marks</label>\r\n",
        "</div>\r\n",
        "<br>\r\n",
        "<div class=\"form-floating mb-3\">\r\n",
        "<input type=\"text\" name=\"medium\" class=\"form-control\" id=\"floatingInput\" placeholder=\"Medium1: HINDI 2:English \" required=\"required\" />\r\n",
        "<label for=\"floatingInput\">Medium</label>\r\n",
        "</div>\r\n",
        "<br>\r\n",
        "<button type=\"submit\" class=\"btn btn-primary btn-block btn-large\">Predict Student Placement</button>\r\n",
        "</form>\r\n",
        "<br>\r\n",
        "<br>\r\n",
        "{{ prediction_text }}\r\n",
        "\r\n",
        "</div>\r\n",
        "\r\n",
        "<div class=\"\" style=\"background-color:blue;\" >\r\n",
        "<div class=\"clearfix\">\r\n",
        "           \r\n",
        "<div class=\"col-md-12\">\r\n",
        " <center><p style=\"font-size:25px;color:white;margin-top:20px;\">Machine Learning Lab</p></center> \r\n",
        "</div>\r\n",
        "</div>\r\n",
        "</div>\r\n",
        "</body>\r\n",
        "</html>\r\n",
        "\r\n"
      ],
      "execution_count": 12,
      "outputs": [
        {
          "output_type": "stream",
          "text": [
            "Overwriting templates/index.html\n"
          ],
          "name": "stdout"
        }
      ]
    },
    {
      "cell_type": "code",
      "metadata": {
        "id": "716kkfqjjmjx",
        "colab": {
          "base_uri": "https://localhost:8080/"
        },
        "outputId": "7abe1a02-fbfe-41db-d43e-29e4413f519d"
      },
      "source": [
        "!pip install flask-ngrok\r\n",
        "import numpy as np\r\n",
        "from flask import Flask, request, jsonify, render_template\r\n",
        "from flask_ngrok import run_with_ngrok\r\n",
        "import pickle\r\n",
        "import pandas as pd\r\n",
        "dataset= pd.read_excel('/content/drive/My Drive/DATASET education.xlsx')\r\n",
        "X = dataset.iloc[:, 0:8].values\r\n",
        "from sklearn.preprocessing import StandardScaler\r\n",
        "sc = StandardScaler()\r\n",
        "X = sc.fit_transform(X)\r\n",
        "\r\n",
        "app = Flask(__name__)\r\n",
        "model = pickle.load(open('/content/drive/My Drive/Naive_Bayes_education_model.pkl','rb')) \r\n",
        "run_with_ngrok(app)\r\n",
        "\r\n",
        "@app.route('/')\r\n",
        "def home():\r\n",
        "  \r\n",
        "    return render_template(\"index.html\")\r\n",
        "  \r\n",
        "@app.route('/predict',methods=['GET'])\r\n",
        "def predict():\r\n",
        "    \r\n",
        "    \r\n",
        "    \r\n",
        "    '''\r\n",
        "    For rendering results on HTML GUI\r\n",
        "    '''\r\n",
        "    percentage10 = int(request.args.get('percentage10'))\r\n",
        "    percentage12 = int(request.args.get('percentage12'))\r\n",
        "    BTechpercentage = int(request.args.get('BTechpercentage'))\r\n",
        "    marks7sem = int(request.args.get('marks7sem'))\r\n",
        "    marks6sem = int(request.args.get('marks6sem'))\r\n",
        "    marks5sem = int(request.args.get('marks5sem'))\r\n",
        "    finalperformance = int(request.args.get('finalperformance'))\r\n",
        "    medium = int(request.args.get('medium'))\r\n",
        "    #int_features = [int(x) for x in request.form.values()]\r\n",
        "    #final_features = [np.array(int_features)]\r\n",
        "    prediction = model.predict(sc.transform([[percentage10,percentage12, BTechpercentage, marks7sem, marks6sem,marks5sem, finalperformance, medium ]]))\r\n",
        "    print(prediction)\r\n",
        "    if prediction==[1]:\r\n",
        "        output='Placed'\r\n",
        "    else:\r\n",
        "        output='Not Placed'\r\n",
        "        \r\n",
        "    return render_template('index.html', prediction_text='Model has predicted student will be : {}'.format(output))\r\n",
        "\r\n",
        "\r\n",
        "app.run()"
      ],
      "execution_count": 15,
      "outputs": [
        {
          "output_type": "stream",
          "text": [
            "Requirement already satisfied: flask-ngrok in /usr/local/lib/python3.6/dist-packages (0.0.25)\n",
            "Requirement already satisfied: Flask>=0.8 in /usr/local/lib/python3.6/dist-packages (from flask-ngrok) (1.1.2)\n",
            "Requirement already satisfied: requests in /usr/local/lib/python3.6/dist-packages (from flask-ngrok) (2.23.0)\n",
            "Requirement already satisfied: click>=5.1 in /usr/local/lib/python3.6/dist-packages (from Flask>=0.8->flask-ngrok) (7.1.2)\n",
            "Requirement already satisfied: Jinja2>=2.10.1 in /usr/local/lib/python3.6/dist-packages (from Flask>=0.8->flask-ngrok) (2.11.3)\n",
            "Requirement already satisfied: Werkzeug>=0.15 in /usr/local/lib/python3.6/dist-packages (from Flask>=0.8->flask-ngrok) (1.0.1)\n",
            "Requirement already satisfied: itsdangerous>=0.24 in /usr/local/lib/python3.6/dist-packages (from Flask>=0.8->flask-ngrok) (1.1.0)\n",
            "Requirement already satisfied: certifi>=2017.4.17 in /usr/local/lib/python3.6/dist-packages (from requests->flask-ngrok) (2020.12.5)\n",
            "Requirement already satisfied: chardet<4,>=3.0.2 in /usr/local/lib/python3.6/dist-packages (from requests->flask-ngrok) (3.0.4)\n",
            "Requirement already satisfied: idna<3,>=2.5 in /usr/local/lib/python3.6/dist-packages (from requests->flask-ngrok) (2.10)\n",
            "Requirement already satisfied: urllib3!=1.25.0,!=1.25.1,<1.26,>=1.21.1 in /usr/local/lib/python3.6/dist-packages (from requests->flask-ngrok) (1.24.3)\n",
            "Requirement already satisfied: MarkupSafe>=0.23 in /usr/local/lib/python3.6/dist-packages (from Jinja2>=2.10.1->Flask>=0.8->flask-ngrok) (1.1.1)\n",
            " * Serving Flask app \"__main__\" (lazy loading)\n",
            " * Environment: production\n",
            "\u001b[31m   WARNING: This is a development server. Do not use it in a production deployment.\u001b[0m\n",
            "\u001b[2m   Use a production WSGI server instead.\u001b[0m\n",
            " * Debug mode: off\n"
          ],
          "name": "stdout"
        },
        {
          "output_type": "stream",
          "text": [
            " * Running on http://127.0.0.1:5000/ (Press CTRL+C to quit)\n"
          ],
          "name": "stderr"
        },
        {
          "output_type": "stream",
          "text": [
            " * Running on http://f7d342c47313.ngrok.io\n",
            " * Traffic stats available on http://127.0.0.1:4040\n"
          ],
          "name": "stdout"
        },
        {
          "output_type": "stream",
          "text": [
            "127.0.0.1 - - [16/Feb/2021 07:50:19] \"\u001b[37mGET / HTTP/1.1\u001b[0m\" 200 -\n",
            "127.0.0.1 - - [16/Feb/2021 07:50:20] \"\u001b[33mGET /favicon.ico HTTP/1.1\u001b[0m\" 404 -\n",
            "127.0.0.1 - - [16/Feb/2021 07:50:38] \"\u001b[37mGET /predict?percentage10=0&percentage12=0&BTechpercentage=0&marks7sem=0&marks6sem=0&marks5sem=0&finalperformance=0&medium=0 HTTP/1.1\u001b[0m\" 200 -\n"
          ],
          "name": "stderr"
        },
        {
          "output_type": "stream",
          "text": [
            "[1]\n"
          ],
          "name": "stdout"
        }
      ]
    },
    {
      "cell_type": "code",
      "metadata": {
        "colab": {
          "base_uri": "https://localhost:8080/"
        },
        "id": "CZ1cbQKxeWWN",
        "outputId": "0f93c782-9cdc-4e92-96b9-83c53014b9a8"
      },
      "source": [
        "!pip install flask-ngrok\r\n",
        "import numpy as np\r\n",
        "from flask import Flask, request, jsonify, render_template\r\n",
        "from flask_ngrok import run_with_ngrok\r\n",
        "import pickle\r\n",
        "import pandas as pd\r\n",
        "dataset= pd.read_excel('/content/drive/My Drive/DATASET education.xlsx')\r\n",
        "X = dataset.iloc[:, 0:8].values\r\n",
        "from sklearn.preprocessing import StandardScaler\r\n",
        "sc = StandardScaler()\r\n",
        "X = sc.fit_transform(X)\r\n",
        "\r\n",
        "app = Flask(__name__)\r\n",
        "model = pickle.load(open('/content/drive/My Drive/Naive_Bayes_education_model.pkl','rb')) \r\n",
        "run_with_ngrok(app)\r\n",
        "\r\n",
        "@app.route('/')\r\n",
        "def home():\r\n",
        "  \r\n",
        "    return render_template(\"index.html\")\r\n",
        "  \r\n",
        "@app.route('/predict',methods=['POST'])\r\n",
        "def predict():\r\n",
        "    \r\n",
        "    \r\n",
        "    \r\n",
        "    '''\r\n",
        "    For rendering results on HTML GUI\r\n",
        "    '''\r\n",
        "    int_features = [int(x) for x in request.form.values()]\r\n",
        "    final_features = [np.array(int_features)]\r\n",
        "    prediction = model.predict(sc.transform(final_features))\r\n",
        "    print(prediction)\r\n",
        "    if prediction==[1]:\r\n",
        "        output='Placed'\r\n",
        "    else:\r\n",
        "        output='Not Placed'\r\n",
        "        \r\n",
        "    return render_template('index.html', prediction_text='Model has predicted student will be : {}'.format(output))\r\n",
        "\r\n",
        "\r\n",
        "app.run()"
      ],
      "execution_count": 6,
      "outputs": [
        {
          "output_type": "stream",
          "text": [
            "Requirement already satisfied: flask-ngrok in /usr/local/lib/python3.6/dist-packages (0.0.25)\n",
            "Requirement already satisfied: Flask>=0.8 in /usr/local/lib/python3.6/dist-packages (from flask-ngrok) (1.1.2)\n",
            "Requirement already satisfied: requests in /usr/local/lib/python3.6/dist-packages (from flask-ngrok) (2.23.0)\n",
            "Requirement already satisfied: itsdangerous>=0.24 in /usr/local/lib/python3.6/dist-packages (from Flask>=0.8->flask-ngrok) (1.1.0)\n",
            "Requirement already satisfied: Werkzeug>=0.15 in /usr/local/lib/python3.6/dist-packages (from Flask>=0.8->flask-ngrok) (1.0.1)\n",
            "Requirement already satisfied: click>=5.1 in /usr/local/lib/python3.6/dist-packages (from Flask>=0.8->flask-ngrok) (7.1.2)\n",
            "Requirement already satisfied: Jinja2>=2.10.1 in /usr/local/lib/python3.6/dist-packages (from Flask>=0.8->flask-ngrok) (2.11.3)\n",
            "Requirement already satisfied: chardet<4,>=3.0.2 in /usr/local/lib/python3.6/dist-packages (from requests->flask-ngrok) (3.0.4)\n",
            "Requirement already satisfied: certifi>=2017.4.17 in /usr/local/lib/python3.6/dist-packages (from requests->flask-ngrok) (2020.12.5)\n",
            "Requirement already satisfied: idna<3,>=2.5 in /usr/local/lib/python3.6/dist-packages (from requests->flask-ngrok) (2.10)\n",
            "Requirement already satisfied: urllib3!=1.25.0,!=1.25.1,<1.26,>=1.21.1 in /usr/local/lib/python3.6/dist-packages (from requests->flask-ngrok) (1.24.3)\n",
            "Requirement already satisfied: MarkupSafe>=0.23 in /usr/local/lib/python3.6/dist-packages (from Jinja2>=2.10.1->Flask>=0.8->flask-ngrok) (1.1.1)\n",
            " * Serving Flask app \"__main__\" (lazy loading)\n",
            " * Environment: production\n",
            "\u001b[31m   WARNING: This is a development server. Do not use it in a production deployment.\u001b[0m\n",
            "\u001b[2m   Use a production WSGI server instead.\u001b[0m\n",
            " * Debug mode: off\n"
          ],
          "name": "stdout"
        },
        {
          "output_type": "stream",
          "text": [
            " * Running on http://127.0.0.1:5000/ (Press CTRL+C to quit)\n"
          ],
          "name": "stderr"
        },
        {
          "output_type": "stream",
          "text": [
            " * Running on http://c0e8aa0f78d4.ngrok.io\n",
            " * Traffic stats available on http://127.0.0.1:4040\n"
          ],
          "name": "stdout"
        },
        {
          "output_type": "stream",
          "text": [
            "127.0.0.1 - - [16/Feb/2021 06:20:55] \"\u001b[37mGET / HTTP/1.1\u001b[0m\" 200 -\n",
            "127.0.0.1 - - [16/Feb/2021 06:20:55] \"\u001b[33mGET /favicon.ico HTTP/1.1\u001b[0m\" 404 -\n",
            "127.0.0.1 - - [16/Feb/2021 06:21:16] \"\u001b[37mPOST /predict HTTP/1.1\u001b[0m\" 200 -\n"
          ],
          "name": "stderr"
        },
        {
          "output_type": "stream",
          "text": [
            "[1]\n"
          ],
          "name": "stdout"
        },
        {
          "output_type": "stream",
          "text": [
            "127.0.0.1 - - [16/Feb/2021 06:21:34] \"\u001b[37mPOST /predict HTTP/1.1\u001b[0m\" 200 -\n"
          ],
          "name": "stderr"
        },
        {
          "output_type": "stream",
          "text": [
            "[1]\n"
          ],
          "name": "stdout"
        }
      ]
    }
  ]
}